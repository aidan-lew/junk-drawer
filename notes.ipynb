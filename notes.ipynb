{
 "cells": [
  {
   "cell_type": "markdown",
   "id": "dfff5957-3a54-4679-96b5-33b244f91e6d",
   "metadata": {},
   "source": [
    "# Using a virtual (conda) environment\n",
    "- 1.) Make sure to choose a directory where your codes are \n",
    "- 2.) conda create --prefix envname\n",
    "To activate it, you need to cd to the codes folder and \n",
    "- 3.) conda activate envname/\n",
    "Note, to make modifications in an enviornment stored like this one, you may need to use conda ____ --prefix envname \n",
    "deactivate the env like\n",
    "- 4.) conda deactivate\n",
    "may also be able to specify the environment idk\n",
    "\n",
    "\n",
    "Other notes:\n",
    "- need to install and open all pakages (including jupyter lab) *within* the activated environment otherwise it wont work (modules wont be imported, etc.)\n",
    "- for solution to issues, I've found KISS is the best\n",
    "- can use the command line to do stuff (like install) simultaneously while jupyter lab is open\n",
    "    - i.e. use conda install in the command line instead of using the sandbox"
   ]
  },
  {
   "cell_type": "code",
   "execution_count": null,
   "id": "a97b523f-48ca-4491-82e9-bf8d0fb78458",
   "metadata": {},
   "outputs": [],
   "source": [
    "# Can plot annotations in locations with boxes and other stuff like so: \n",
    "xmin, xmax, ymin, ymax = plt.axis()\n",
    "\n",
    "ax.set_title('Single Monkey Lymphocyte Predictions', fontsize=15)\n",
    "ax.annotate(\"R2: {}\".format(str(r2_score(sreg_y_validation, sreg_a_df).round(2))),\n",
    "            xy=(0.35*xmax,0.9*ymax), fontsize=12,\n",
    "           bbox={'facecolor': 'white', 'alpha': 1, 'pad': 10})"
   ]
  },
  {
   "cell_type": "markdown",
   "id": "a519a25f-7955-4ea8-b756-d048e89c920b",
   "metadata": {},
   "source": [
    "Catboost cat_features needs to be a column index, not a column name so need to use something like:\n",
    "     cat_features= list(range(0,sred_reg_X[sred_reg_X.columns[:1]].shape[1]))"
   ]
  },
  {
   "cell_type": "markdown",
   "id": "3b99011c-47c5-4bde-a00f-f6f9161a0e89",
   "metadata": {
    "tags": []
   },
   "source": [
    "To use a variable from one function in another, use global to declare the variables to be used from the upstream function"
   ]
  },
  {
   "cell_type": "code",
   "execution_count": null,
   "id": "ce3e2481-2e6c-4401-ab7c-d73cdd7ca8f0",
   "metadata": {},
   "outputs": [],
   "source": [
    "if pytorch is throwing a _C dir error, restart the kernel and it will go away"
   ]
  },
  {
   "cell_type": "code",
   "execution_count": null,
   "id": "faa4d3ea-0298-40d8-955c-0d18a20f8342",
   "metadata": {},
   "outputs": [],
   "source": [
    "you can make a list of appended inputs like so and then make a df out of the list\n",
    "\n",
    "\n",
    "vector = []\n",
    "#vector2 = ['age','dose','days','months','age_at']\n",
    "\n",
    "sex = float(input('Sex (1/0)'))\n",
    "vector.append(sex)\n",
    "\n",
    "age = float(input('Age (yr)'))\n",
    "vector.append(age)\n",
    "\n",
    "\n",
    "dose = float(input('Radiation dose (Gy)'))\n",
    "vector.append(dose)\n",
    "\n",
    "\n",
    "days = float(input('Days since exposure'))\n",
    "vector.append(days)\n",
    "\n",
    "\n",
    "age_at = float(input('Age at exposure (mo)'))\n",
    "vector.append(age_at)\n",
    "\n",
    "#vector= np.array(vector)\n",
    "#vector.reshape(1,5)\n",
    "\n",
    "df = pd.DataFrame(data#=vector, columns=['age','dose','days','months','age_at']\n",
    "             )\n",
    "\n"
   ]
  },
  {
   "cell_type": "code",
   "execution_count": null,
   "id": "0288f2cf-d871-4b9a-bf54-d60a6a46bbc8",
   "metadata": {},
   "outputs": [],
   "source": [
    "to make a single object prediction, append the input df onto the X and then predict the target (which has a dummy variable in it)\n",
    "this may be different for other models, but when I tried to make the trining data all X and have the single object as y, it did not go well for CatBoost\n",
    "\n",
    "def my_health_api (df):\n",
    "\n",
    "    data = {\n",
    "        'SEX': [input('Sex (M/F)')],\n",
    "        'AGE': [input('Age (yr)')],\n",
    "        'DOSE_(Gy)': [input('Radiation dose (Gy)')],\n",
    "        'DAYS_SINCE_IRRAD': [input('Days since exposure')],\n",
    "        'MONTHS AT IRRAD': [input('Age at exposure (mo)')],\n",
    "        'NEUT_(%)':[input('Neutrophils (%)')],\n",
    "        'MONO_(%)':[input('Monocytes (%)')],\n",
    "        'EOS_(%)': [input('Eosinphils (%)')],\n",
    "        'LYMPHOCYTES_(%)':[0]\n",
    "    }\n",
    "\n",
    "    input_df = pd.DataFrame(data\n",
    "                     )\n",
    "\n",
    "    #make the training data\n",
    "    ref_columns = input_df.columns\n",
    "    df = minbio_monkey_df[ref_columns]\n",
    "\n",
    "\n",
    "\n",
    "    ### Data Setup ###\n",
    "    #data labeling\n",
    "    ylabel = 'LYMPHOCYTES_(%)' \n",
    "\n",
    "    global  input_y, y, X\n",
    "    input_y = input_df[ylabel]\n",
    "   \n",
    "\n",
    "    y = df[ylabel]\n",
    "    X = df\n",
    "    X = X.drop([ylabel],axis=1)\n",
    "\n",
    "    \n",
    "    \n",
    "    X = X.append(input_df)\n",
    "    #declare catagorical features\n",
    "    cat_cols = 1\n",
    "    cat_features= list(range(0,X[X.columns[:cat_cols]].shape[1]))\n",
    "\n",
    "    \n",
    "    ### Model Formation ###\n",
    "    iterations = 1000\n",
    "    learning_rate = 0.5\n",
    "    early_stopping_rounds = 2\n",
    "\n",
    "\n",
    "    model = CatBoostRegressor(iterations=iterations, \n",
    "                              learning_rate=learning_rate,\n",
    "                               early_stopping_rounds= early_stopping_rounds\n",
    "                             )\n",
    "    model.fit(X.iloc[:-1],y,\n",
    "              cat_features=cat_features,\n",
    "              verbose=False\n",
    "         )\n",
    "\n",
    "    \n",
    "    \n",
    "    ### Predictions ###\n",
    "    a = model.predict([X.iloc[-1]])\n",
    "\n",
    "    print('Predicted Lymphocyte Counts: {}'.format(a.round(2)))"
   ]
  },
  {
   "cell_type": "code",
   "execution_count": null,
   "id": "cedef247-e09e-4b1d-8193-64df6347d155",
   "metadata": {},
   "outputs": [],
   "source": []
  }
 ],
 "metadata": {
  "kernelspec": {
   "display_name": "Python 3 (ipykernel)",
   "language": "python",
   "name": "python3"
  },
  "language_info": {
   "codemirror_mode": {
    "name": "ipython",
    "version": 3
   },
   "file_extension": ".py",
   "mimetype": "text/x-python",
   "name": "python",
   "nbconvert_exporter": "python",
   "pygments_lexer": "ipython3",
   "version": "3.10.9"
  }
 },
 "nbformat": 4,
 "nbformat_minor": 5
}
